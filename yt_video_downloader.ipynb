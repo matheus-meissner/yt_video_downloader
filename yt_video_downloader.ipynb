{
 "cells": [
  {
   "cell_type": "markdown",
   "metadata": {},
   "source": [
    "# 🦎 Youtube Video Downloader 🦎"
   ]
  },
  {
   "cell_type": "markdown",
   "metadata": {},
   "source": [
    "## 🐍 Encubadora 🐍"
   ]
  },
  {
   "cell_type": "code",
   "execution_count": 405,
   "metadata": {},
   "outputs": [],
   "source": [
    "# import tkinter as tk\n",
    "# from tkinter import messagebox, filedialog\n",
    "# from pytube import YouTube\n",
    "# import os\n",
    "# import threading\n",
    "\n",
    "# def select_download_path():\n",
    "#     download_path = filedialog.askdirectory()\n",
    "#     if download_path:\n",
    "#         download_path_entry.delete(0, tk.END)\n",
    "#         download_path_entry.insert(0, download_path)\n",
    "#         # Iniciar uma thread para atualizar as informações de qualidade\n",
    "#         thread = threading.Thread(target=update_info_in_background)\n",
    "#         thread.start()\n",
    "\n",
    "# def update_info_in_background():\n",
    "#     update_quality_dropdown()\n",
    "\n",
    "# # Atualizar as opções de qualidade quando o usuário inserir o link do vídeo\n",
    "# def on_url_entry_change(event):\n",
    "#     # Iniciar uma thread para atualizar as informações de qualidade\n",
    "#     thread = threading.Thread(target=update_info_in_background)\n",
    "#     thread.start()\n",
    "\n",
    "# def browse_and_update():\n",
    "#     # Iniciar uma thread para atualizar as informações de qualidade\n",
    "#     thread = threading.Thread(target=update_info_in_background)\n",
    "#     thread.start()\n",
    "#     select_download_path()\n",
    "\n",
    "# def get_available_qualities():\n",
    "#     url = url_entry.get()\n",
    "#     try:\n",
    "#         yt = YouTube(url)\n",
    "#         # Filtrar as qualidades disponíveis para evitar duplicatas e remover opções indesejadas\n",
    "#         available_qualities = set()\n",
    "#         for stream in yt.streams.filter(type=\"video\"):\n",
    "#             if stream.resolution not in available_qualities and stream.resolution is not None:\n",
    "#                 available_qualities.add(stream.resolution)\n",
    "#         return sorted(available_qualities)\n",
    "#     except Exception as e:\n",
    "#         messagebox.showerror(\"Erro\", f\"Ocorreu um erro ao obter as qualidades disponíveis: {str(e)}\")\n",
    "#         return []\n",
    "\n",
    "# def update_quality_dropdown():\n",
    "#     try:\n",
    "#         qualities = get_available_qualities()\n",
    "#         quality_var.set(\"\")  # Limpar o valor atual do menu suspenso\n",
    "#         quality_dropdown[\"menu\"].delete(0, \"end\")  # Limpar as opções do menu suspenso\n",
    "#         for quality in qualities:\n",
    "#             quality_dropdown[\"menu\"].add_command(label=quality, command=tk._setit(quality_var, quality))\n",
    "#     except Exception as e:\n",
    "#         messagebox.showerror(\"Erro\", f\"Ocorreu um erro ao obter as qualidades disponíveis: {str(e)}\")\n",
    "#         return\n",
    "\n",
    "# def download_video():\n",
    "#     url = url_entry.get()\n",
    "#     selected_quality = quality_var.get()\n",
    "#     try:\n",
    "#         yt = YouTube(url)\n",
    "#         # Obter a stream de vídeo com a qualidade selecionada\n",
    "#         video = yt.streams.filter(type=\"video\", resolution=selected_quality).first()\n",
    "#         if video is None:\n",
    "#             messagebox.showerror(\"Erro\", f\"A qualidade '{selected_quality}' não é suportada para este vídeo.\")\n",
    "#             return\n",
    "#         download_path = download_path_entry.get()\n",
    "#         file_path = os.path.join(download_path, video.default_filename)\n",
    "#         video.download(download_path)\n",
    "        \n",
    "#         # Notificar o usuário sobre o sucesso do download\n",
    "#         messagebox.showinfo(\"Sucesso\", f\"Vídeo baixado com sucesso! Salvo em: {file_path}\")\n",
    "#     except Exception as e:\n",
    "#         messagebox.showerror(\"Erro\", f\"Ocorreu um erro ao baixar o vídeo: {str(e)}\")\n",
    "\n",
    "# # Criar a janela principal\n",
    "# root = tk.Tk()\n",
    "# root.title(\"YouTube Video Downloader\")\n",
    "\n",
    "# # Criar os widgets\n",
    "# url_label = tk.Label(root, text=\"URL do vídeo:\")\n",
    "# url_label.grid(row=0, column=0, padx=10, pady=5, sticky=tk.W)\n",
    "\n",
    "# url_entry = tk.Entry(root, width=50)\n",
    "# url_entry.grid(row=0, column=1, padx=10, pady=5)\n",
    "\n",
    "# download_path_label = tk.Label(root, text=\"Caminho de Download:\")\n",
    "# download_path_label.grid(row=1, column=0, padx=10, pady=5, sticky=tk.W)\n",
    "\n",
    "# download_path_entry = tk.Entry(root, width=50)\n",
    "# download_path_entry.grid(row=1, column=1, padx=10, pady=5)\n",
    "\n",
    "# browse_button = tk.Button(root, text=\"Navegar...\", command=select_download_path)\n",
    "# browse_button.grid(row=1, column=2, padx=5, pady=5)\n",
    "\n",
    "# quality_label = tk.Label(root, text=\"Qualidade do vídeo:\")\n",
    "# quality_label.grid(row=2, column=0, padx=10, pady=5, sticky=tk.W)\n",
    "\n",
    "# quality_var = tk.StringVar(root)\n",
    "# quality_dropdown = tk.OptionMenu(root, quality_var, \"\")\n",
    "# quality_dropdown.grid(row=2, column=1, padx=10, pady=5)\n",
    "\n",
    "# download_button = tk.Button(root, text=\"Baixar Vídeo\", command=download_video)\n",
    "# download_button.grid(row=3, column=0, columnspan=2, pady=10)\n",
    "\n",
    "# # Executar a aplicação\n",
    "# root.mainloop()"
   ]
  },
  {
   "cell_type": "markdown",
   "metadata": {},
   "source": [
    "## 🐢 Depuração 🐢"
   ]
  },
  {
   "cell_type": "markdown",
   "metadata": {},
   "source": [
    "### Bibliotecas"
   ]
  },
  {
   "cell_type": "code",
   "execution_count": 406,
   "metadata": {},
   "outputs": [],
   "source": [
    "import tkinter as tk\n",
    "from tkinter import ttk\n",
    "from tkinter import messagebox, filedialog\n",
    "from pytube import YouTube\n",
    "import sys\n",
    "import os\n",
    "import threading"
   ]
  },
  {
   "cell_type": "markdown",
   "metadata": {},
   "source": [
    "### select_download_path"
   ]
  },
  {
   "cell_type": "code",
   "execution_count": 407,
   "metadata": {},
   "outputs": [],
   "source": [
    "def select_download_path():\n",
    "    download_path = filedialog.askdirectory()\n",
    "    if download_path:\n",
    "        download_path_entry.delete(0, tk.END)\n",
    "        download_path_entry.insert(0, download_path)\n",
    "        # Iniciar uma thread para atualizar as informações de qualidade\n",
    "        thread = threading.Thread(target=update_info_in_background)\n",
    "        thread.start()"
   ]
  },
  {
   "cell_type": "markdown",
   "metadata": {},
   "source": [
    "### update_info_in_background"
   ]
  },
  {
   "cell_type": "code",
   "execution_count": 408,
   "metadata": {},
   "outputs": [],
   "source": [
    "def update_info_in_background():\n",
    "    update_quality_dropdown()"
   ]
  },
  {
   "cell_type": "markdown",
   "metadata": {},
   "source": [
    "### on_url_entry_change"
   ]
  },
  {
   "cell_type": "code",
   "execution_count": 409,
   "metadata": {},
   "outputs": [],
   "source": [
    "# Atualizar as opções de qualidade quando o usuário inserir o link do vídeo\n",
    "def on_url_entry_change(event):\n",
    "    # Iniciar uma thread para atualizar as informações de qualidade\n",
    "    thread = threading.Thread(target=update_info_in_background)\n",
    "    thread.start()"
   ]
  },
  {
   "cell_type": "markdown",
   "metadata": {},
   "source": [
    "### browse_and_update"
   ]
  },
  {
   "cell_type": "code",
   "execution_count": 410,
   "metadata": {},
   "outputs": [],
   "source": [
    "def browse_and_update():\n",
    "    # Iniciar uma thread para atualizar as informações de qualidade\n",
    "    thread = threading.Thread(target=update_info_in_background)\n",
    "    thread.start()\n",
    "    select_download_path()"
   ]
  },
  {
   "cell_type": "markdown",
   "metadata": {},
   "source": [
    "### get_available_qualities"
   ]
  },
  {
   "cell_type": "code",
   "execution_count": 411,
   "metadata": {},
   "outputs": [],
   "source": [
    "def get_available_qualities():\n",
    "    url = url_entry.get()\n",
    "    try:\n",
    "        yt = YouTube(url)\n",
    "        # Filtrar as qualidades disponíveis para evitar duplicatas e remover opções indesejadas\n",
    "        available_qualities = set()\n",
    "        for stream in yt.streams.filter(type=\"video\"):\n",
    "            if stream.resolution not in available_qualities and stream.resolution is not None:\n",
    "                available_qualities.add(stream.resolution)\n",
    "        return sorted(available_qualities)\n",
    "    except Exception as e:\n",
    "        messagebox.showerror(\"Erro\", f\"Ocorreu um erro ao obter as qualidades disponíveis: {str(e)}\")\n",
    "        return []"
   ]
  },
  {
   "cell_type": "markdown",
   "metadata": {},
   "source": [
    "### update_quality_dropdown"
   ]
  },
  {
   "cell_type": "code",
   "execution_count": 412,
   "metadata": {},
   "outputs": [],
   "source": [
    "def update_quality_dropdown():\n",
    "    try:\n",
    "        qualities = get_available_qualities()\n",
    "        quality_var.set(\"\")  # Limpar o valor atual do menu suspenso\n",
    "        quality_dropdown[\"menu\"].delete(0, \"end\")  # Limpar as opções do menu suspenso\n",
    "        for quality in qualities:\n",
    "            quality_dropdown[\"menu\"].add_command(label=quality, command=tk._setit(quality_var, quality))\n",
    "    except Exception as e:\n",
    "        messagebox.showerror(\"Erro\", f\"Ocorreu um erro ao obter as qualidades disponíveis: {str(e)}\")\n",
    "        return"
   ]
  },
  {
   "cell_type": "markdown",
   "metadata": {},
   "source": [
    "### download_video"
   ]
  },
  {
   "cell_type": "code",
   "execution_count": 413,
   "metadata": {},
   "outputs": [],
   "source": [
    "def download_video():\n",
    "    url = url_entry.get()\n",
    "    selected_quality = quality_var.get()\n",
    "    try:\n",
    "        yt = YouTube(url)\n",
    "        # Obter a stream de vídeo com a qualidade selecionada\n",
    "        video = yt.streams.filter(type=\"video\", resolution=selected_quality).first()\n",
    "        if video is None:\n",
    "            messagebox.showerror(\"Erro\", f\"A qualidade '{selected_quality}' não é suportada para este vídeo.\")\n",
    "            return\n",
    "        download_path = download_path_entry.get()\n",
    "        file_path = os.path.join(download_path, video.default_filename)\n",
    "        video.download(download_path)\n",
    "        \n",
    "        # Notificar o usuário sobre o sucesso do download\n",
    "        messagebox.showinfo(\"Sucesso\", f\"Vídeo baixado com sucesso! Salvo em: {file_path}\")\n",
    "    except Exception as e:\n",
    "        messagebox.showerror(\"Erro\", f\"Ocorreu um erro ao baixar o vídeo: {str(e)}\")"
   ]
  },
  {
   "cell_type": "markdown",
   "metadata": {},
   "source": [
    "### interface"
   ]
  },
  {
   "cell_type": "code",
   "execution_count": 414,
   "metadata": {},
   "outputs": [],
   "source": [
    "# Criar a janela principal\n",
    "root = tk.Tk()\n",
    "root.title(\"YouTube Video Downloader\")\n",
    "\n",
    "# Definir a cor de fundo da janela\n",
    "root.configure(bg=\"black\")\n",
    "\n",
    "# Criar os widgets\n",
    "url_label = tk.Label(root, text=\"URL do vídeo:\")\n",
    "url_label.grid(row=0, column=0, padx=10, pady=5, sticky=tk.W)\n",
    "url_label.configure(bg=\"black\")\n",
    "url_label.configure(fg=\"white\")\n",
    "\n",
    "url_entry = tk.Entry(root, width=50)\n",
    "url_entry.grid(row=0, column=1, padx=10, pady=5)\n",
    "url_entry.configure(bg=\"black\")\n",
    "url_entry.configure(fg=\"white\")\n",
    "\n",
    "download_path_label = tk.Label(root, text=\"Caminho de Download:\")\n",
    "download_path_label.grid(row=1, column=0, padx=10, pady=5, sticky=tk.W)\n",
    "download_path_label.configure(bg=\"black\")\n",
    "download_path_label.configure(fg=\"white\")\n",
    "\n",
    "download_path_entry = tk.Entry(root, width=50)\n",
    "download_path_entry.grid(row=1, column=1, padx=10, pady=5)\n",
    "download_path_entry.configure(bg=\"black\")\n",
    "download_path_entry.configure(fg=\"white\")\n",
    "\n",
    "browse_button = tk.Button(root, text=\"Navegar...\", command=select_download_path)\n",
    "browse_button.grid(row=1, column=2, padx=5, pady=5)\n",
    "browse_button.configure(bg=\"black\")\n",
    "browse_button.configure(fg=\"white\")\n",
    "\n",
    "quality_label = tk.Label(root, text=\"Qualidade do vídeo:\")\n",
    "quality_label.grid(row=2, column=0, padx=10, pady=5, sticky=tk.W)\n",
    "quality_label.configure(bg=\"black\")\n",
    "quality_label.configure(fg=\"white\")\n",
    "\n",
    "quality_var = tk.StringVar(root)\n",
    "quality_var.set(\"Selecione\")  # Definindo um valor padrão\n",
    "\n",
    "quality_dropdown = tk.OptionMenu(root, quality_var, \"\")\n",
    "quality_dropdown.grid(row=2, column=1, padx=10, pady=5)\n",
    "quality_dropdown.configure(bg=\"black\")\n",
    "quality_dropdown.configure(fg=\"white\")\n",
    "\n",
    "download_button = tk.Button(root, text=\"Baixar Vídeo\", command=download_video)\n",
    "download_button.grid(row=3, column=0, columnspan=2, pady=10)\n",
    "download_button.configure(bg=\"black\")\n",
    "download_button.configure(fg=\"white\")"
   ]
  },
  {
   "cell_type": "markdown",
   "metadata": {},
   "source": [
    "### executa"
   ]
  },
  {
   "cell_type": "code",
   "execution_count": 415,
   "metadata": {},
   "outputs": [],
   "source": [
    "# Executar a aplicação\n",
    "root.mainloop()"
   ]
  },
  {
   "cell_type": "markdown",
   "metadata": {},
   "source": [
    "### 🦖 Old 🦖"
   ]
  },
  {
   "cell_type": "code",
   "execution_count": 416,
   "metadata": {},
   "outputs": [],
   "source": [
    "# import tkinter as tk\n",
    "# from tkinter import messagebox, filedialog\n",
    "# from pytube import YouTube\n",
    "# import os\n",
    "# import threading\n",
    "\n",
    "# def select_download_path():\n",
    "#     download_path = filedialog.askdirectory()\n",
    "#     if download_path:\n",
    "#         download_path_entry.delete(0, tk.END)\n",
    "#         download_path_entry.insert(0, download_path)\n",
    "#         # Iniciar uma thread para atualizar as informações de qualidade\n",
    "#         thread = threading.Thread(target=update_info_in_background)\n",
    "#         thread.start()\n",
    "\n",
    "# def update_info_in_background():\n",
    "#     update_quality_dropdown()\n",
    "\n",
    "# # Atualizar as opções de qualidade quando o usuário inserir o link do vídeo\n",
    "# def on_url_entry_change(event):\n",
    "#     # Iniciar uma thread para atualizar as informações de qualidade\n",
    "#     thread = threading.Thread(target=update_info_in_background)\n",
    "#     thread.start()\n",
    "\n",
    "# def browse_and_update():\n",
    "#     # Iniciar uma thread para atualizar as informações de qualidade\n",
    "#     thread = threading.Thread(target=update_info_in_background)\n",
    "#     thread.start()\n",
    "#     select_download_path()\n",
    "\n",
    "# def get_available_qualities():\n",
    "#     url = url_entry.get()\n",
    "#     try:\n",
    "#         yt = YouTube(url)\n",
    "#         # Filtrar as qualidades disponíveis para evitar duplicatas e remover opções indesejadas\n",
    "#         available_qualities = set()\n",
    "#         for stream in yt.streams.filter(type=\"video\"):\n",
    "#             if stream.resolution not in available_qualities and stream.resolution is not None:\n",
    "#                 available_qualities.add(stream.resolution)\n",
    "#         return sorted(available_qualities)\n",
    "#     except Exception as e:\n",
    "#         messagebox.showerror(\"Erro\", f\"Ocorreu um erro ao obter as qualidades disponíveis: {str(e)}\")\n",
    "#         return []\n",
    "\n",
    "# def update_quality_dropdown():\n",
    "#     try:\n",
    "#         qualities = get_available_qualities()\n",
    "#         quality_var.set(\"\")  # Limpar o valor atual do menu suspenso\n",
    "#         quality_dropdown[\"menu\"].delete(0, \"end\")  # Limpar as opções do menu suspenso\n",
    "#         for quality in qualities:\n",
    "#             quality_dropdown[\"menu\"].add_command(label=quality, command=tk._setit(quality_var, quality))\n",
    "#     except Exception as e:\n",
    "#         messagebox.showerror(\"Erro\", f\"Ocorreu um erro ao obter as qualidades disponíveis: {str(e)}\")\n",
    "#         return\n",
    "\n",
    "# def download_video():\n",
    "#     url = url_entry.get()\n",
    "#     selected_quality = quality_var.get()\n",
    "#     try:\n",
    "#         yt = YouTube(url)\n",
    "#         # Obter a stream de vídeo com a qualidade selecionada\n",
    "#         video = yt.streams.filter(type=\"video\", resolution=selected_quality).first()\n",
    "#         if video is None:\n",
    "#             messagebox.showerror(\"Erro\", f\"A qualidade '{selected_quality}' não é suportada para este vídeo.\")\n",
    "#             return\n",
    "#         download_path = download_path_entry.get()\n",
    "#         file_path = os.path.join(download_path, video.default_filename)\n",
    "#         video.download(download_path)\n",
    "        \n",
    "#         # Notificar o usuário sobre o sucesso do download\n",
    "#         messagebox.showinfo(\"Sucesso\", f\"Vídeo baixado com sucesso! Salvo em: {file_path}\")\n",
    "#     except Exception as e:\n",
    "#         messagebox.showerror(\"Erro\", f\"Ocorreu um erro ao baixar o vídeo: {str(e)}\")\n",
    "\n",
    "# # Criar a janela principal\n",
    "# root = tk.Tk()\n",
    "# root.title(\"YouTube Video Downloader\")\n",
    "\n",
    "# # Criar os widgets\n",
    "# url_label = tk.Label(root, text=\"URL do vídeo:\")\n",
    "# url_label.grid(row=0, column=0, padx=10, pady=5, sticky=tk.W)\n",
    "\n",
    "# url_entry = tk.Entry(root, width=50)\n",
    "# url_entry.grid(row=0, column=1, padx=10, pady=5)\n",
    "\n",
    "# download_path_label = tk.Label(root, text=\"Caminho de Download:\")\n",
    "# download_path_label.grid(row=1, column=0, padx=10, pady=5, sticky=tk.W)\n",
    "\n",
    "# download_path_entry = tk.Entry(root, width=50)\n",
    "# download_path_entry.grid(row=1, column=1, padx=10, pady=5)\n",
    "\n",
    "# browse_button = tk.Button(root, text=\"Navegar...\", command=select_download_path)\n",
    "# browse_button.grid(row=1, column=2, padx=5, pady=5)\n",
    "\n",
    "# quality_label = tk.Label(root, text=\"Qualidade do vídeo:\")\n",
    "# quality_label.grid(row=2, column=0, padx=10, pady=5, sticky=tk.W)\n",
    "\n",
    "# quality_var = tk.StringVar(root)\n",
    "# quality_dropdown = tk.OptionMenu(root, quality_var, \"\")\n",
    "# quality_dropdown.grid(row=2, column=1, padx=10, pady=5)\n",
    "\n",
    "# download_button = tk.Button(root, text=\"Baixar Vídeo\", command=download_video)\n",
    "# download_button.grid(row=3, column=0, columnspan=2, pady=10)\n",
    "\n",
    "# # Executar a aplicação\n",
    "# root.mainloop()"
   ]
  }
 ],
 "metadata": {
  "kernelspec": {
   "display_name": "Python 3",
   "language": "python",
   "name": "python3"
  },
  "language_info": {
   "codemirror_mode": {
    "name": "ipython",
    "version": 3
   },
   "file_extension": ".py",
   "mimetype": "text/x-python",
   "name": "python",
   "nbconvert_exporter": "python",
   "pygments_lexer": "ipython3",
   "version": "3.12.2"
  }
 },
 "nbformat": 4,
 "nbformat_minor": 2
}
