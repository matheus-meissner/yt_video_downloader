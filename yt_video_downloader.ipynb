{
 "cells": [
  {
   "cell_type": "markdown",
   "metadata": {},
   "source": [
    "# 🦎 Youtube Video Downloader 🦎"
   ]
  },
  {
   "cell_type": "markdown",
   "metadata": {},
   "source": [
    "## 🐍 Encubadora 🐍"
   ]
  },
  {
   "cell_type": "code",
   "execution_count": null,
   "metadata": {},
   "outputs": [],
   "source": [
    "# import pytube\n",
    "\n",
    "# url = 'https://www.youtube.com/watch?v=eycU0vO9Gzc'\n",
    "\n",
    "# yt = pytube.YouTube(url)\n",
    "\n",
    "# video = yt.streams.first()\n",
    "\n",
    "# video.download(r\"C:\\Users\\matheus_meissner\\Desktop\\github\\yt_video_downloader\")"
   ]
  },
  {
   "cell_type": "markdown",
   "metadata": {},
   "source": [
    "## 🐢 Depuração 🐢"
   ]
  },
  {
   "cell_type": "markdown",
   "metadata": {},
   "source": [
    "### Bibliotecas"
   ]
  },
  {
   "cell_type": "code",
   "execution_count": null,
   "metadata": {},
   "outputs": [],
   "source": [
    "import pytube"
   ]
  },
  {
   "cell_type": "markdown",
   "metadata": {},
   "source": [
    "### Escolhe a qualidade 💠"
   ]
  },
  {
   "cell_type": "code",
   "execution_count": null,
   "metadata": {},
   "outputs": [],
   "source": [
    "def escolher_qualidade(url):\n",
    "    yt = pytube.YouTube(url)\n",
    "    streams = yt.streams.filter(progressive=True).all()\n",
    "    \n",
    "    print(\"Qualidade disponível:\")\n",
    "    for i, stream in enumerate(streams):\n",
    "        print(f\"{i+1}. {stream.resolution} - {stream.mime_type}\")\n",
    "    \n",
    "    escolha = int(input(\"Escolha o número da qualidade desejada: \"))\n",
    "    selected_stream = streams[escolha-1]\n",
    "    \n",
    "    return selected_stream"
   ]
  },
  {
   "cell_type": "markdown",
   "metadata": {},
   "source": [
    "### Baixa o vídeo"
   ]
  },
  {
   "cell_type": "code",
   "execution_count": null,
   "metadata": {},
   "outputs": [],
   "source": [
    "def download_video(url, output_path):\n",
    "    stream = escolher_qualidade(url)\n",
    "    stream.download(output_path)\n",
    "    print(\"Download concluído.\")"
   ]
  },
  {
   "cell_type": "markdown",
   "metadata": {},
   "source": [
    "### Exemplo de uso 💠"
   ]
  },
  {
   "cell_type": "code",
   "execution_count": null,
   "metadata": {},
   "outputs": [],
   "source": [
    "# Exemplo de uso:\n",
    "url = input(\"https://www.youtube.com/watch?v=nNkw3Fo9Aqk\")\n",
    "output_path = input(r\"C:\\Users\\matheus_meissner\\Desktop\\github\\yt_video_downloader\")\n",
    "\n",
    "download_video(url, output_path)"
   ]
  },
  {
   "cell_type": "markdown",
   "metadata": {},
   "source": [
    "## Teste GPT"
   ]
  },
  {
   "cell_type": "markdown",
   "metadata": {},
   "source": []
  },
  {
   "cell_type": "code",
   "execution_count": null,
   "metadata": {},
   "outputs": [],
   "source": [
    "import tkinter as tk\n",
    "from tkinter import messagebox, filedialog\n",
    "from pytube import YouTube\n",
    "import os\n",
    "import threading\n",
    "\n",
    "def select_download_path():\n",
    "    download_path = filedialog.askdirectory()\n",
    "    if download_path:\n",
    "        download_path_entry.delete(0, tk.END)\n",
    "        download_path_entry.insert(0, download_path)\n",
    "\n",
    "def update_quality_dropdown():\n",
    "    try:\n",
    "        qualities = get_available_qualities()\n",
    "        quality_var.set(\"\")  # Limpar o valor atual do menu suspenso\n",
    "        quality_dropdown[\"menu\"].delete(0, \"end\")  # Limpar as opções do menu suspenso\n",
    "        for quality in qualities:\n",
    "            quality_dropdown[\"menu\"].add_command(label=quality, command=tk._setit(quality_var, quality))\n",
    "    except Exception as e:\n",
    "        messagebox.showerror(\"Erro\", f\"Ocorreu um erro ao obter as qualidades disponíveis: {str(e)}\")\n",
    "        return\n",
    "\n",
    "def update_format_dropdown():\n",
    "    try:\n",
    "        formats = get_available_formats()\n",
    "        format_var.set(\"\")  # Limpar o valor atual do menu suspenso\n",
    "        format_dropdown[\"menu\"].delete(0, \"end\")  # Limpar as opções do menu suspenso\n",
    "        for format in formats:\n",
    "            format_dropdown[\"menu\"].add_command(label=format, command=tk._setit(format_var, format))\n",
    "    except Exception as e:\n",
    "        messagebox.showerror(\"Erro\", f\"Ocorreu um erro ao obter os formatos disponíveis: {str(e)}\")\n",
    "        return\n",
    "\n",
    "def get_available_qualities():\n",
    "    url = url_entry.get()\n",
    "    try:\n",
    "        yt = YouTube(url)\n",
    "        # Filtrar as qualidades disponíveis para evitar duplicatas e remover opções indesejadas\n",
    "        available_qualities = set()\n",
    "        for stream in yt.streams.filter(type=\"video\"):\n",
    "            if stream.resolution not in available_qualities and stream.resolution is not None:\n",
    "                available_qualities.add(stream.resolution)\n",
    "        return sorted(available_qualities)\n",
    "    except Exception as e:\n",
    "        messagebox.showerror(\"Erro\", f\"Ocorreu um erro ao obter as qualidades disponíveis: {str(e)}\")\n",
    "        return []\n",
    "\n",
    "def get_available_formats():\n",
    "    url = url_entry.get()\n",
    "    try:\n",
    "        yt = YouTube(url)\n",
    "        # Obter os formatos disponíveis para o vídeo\n",
    "        return sorted(set(stream.mime_type.split(\"/\")[1] for stream in yt.streams))\n",
    "    except Exception as e:\n",
    "        messagebox.showerror(\"Erro\", f\"Ocorreu um erro ao obter os formatos disponíveis: {str(e)}\")\n",
    "        return []\n",
    "\n",
    "def download_video():\n",
    "    url = url_entry.get()\n",
    "    selected_quality = quality_var.get()\n",
    "    selected_format = format_var.get()\n",
    "    try:\n",
    "        yt = YouTube(url)\n",
    "        # Verificar se a opção de qualidade e formato selecionados são suportados\n",
    "        video = yt.streams.filter(type=\"video\", resolution=selected_quality, mime_type=f\"video/{selected_format}\").first()\n",
    "        if video is None:\n",
    "            messagebox.showerror(\"Erro\", f\"A combinação de qualidade '{selected_quality}' e formato '{selected_format}' não é suportada para este vídeo.\")\n",
    "            return\n",
    "        download_path = download_path_entry.get()\n",
    "        file_path = os.path.join(download_path, video.default_filename)\n",
    "        video.download(download_path)\n",
    "        \n",
    "        # Converter para MP4 se o formato não for MP4\n",
    "        if selected_format != \"mp4\":\n",
    "            converted_file_path = os.path.splitext(file_path)[0] + \".mp4\"\n",
    "            os.rename(file_path, converted_file_path)\n",
    "            messagebox.showinfo(\"Sucesso\", f\"Vídeo baixado e convertido para MP4 com sucesso! Salvo em: {converted_file_path}\")\n",
    "        else:\n",
    "            messagebox.showinfo(\"Sucesso\", f\"Vídeo baixado com sucesso! Salvo em: {file_path}\")\n",
    "    except Exception as e:\n",
    "        messagebox.showerror(\"Erro\", f\"Ocorreu um erro ao baixar o vídeo: {str(e)}\")\n",
    "\n",
    "# Criar a janela principal\n",
    "root = tk.Tk()\n",
    "root.title(\"YouTube Video Downloader\")\n",
    "\n",
    "# Criar os widgets\n",
    "url_label = tk.Label(root, text=\"URL do vídeo:\")\n",
    "url_label.grid(row=0, column=0, padx=10, pady=5, sticky=tk.W)\n",
    "\n",
    "url_entry = tk.Entry(root, width=50)\n",
    "url_entry.grid(row=0, column=1, padx=10, pady=5)\n",
    "\n",
    "download_path_label = tk.Label(root, text=\"Caminho de Download:\")\n",
    "download_path_label.grid(row=1, column=0, padx=10, pady=5, sticky=tk.W)\n",
    "\n",
    "download_path_entry = tk.Entry(root, width=50)\n",
    "download_path_entry.grid(row=1, column=1, padx=10, pady=5)\n",
    "\n",
    "browse_button = tk.Button(root, text=\"Navegar...\", command=select_download_path)\n",
    "browse_button.grid(row=1, column=2, padx=5, pady=5)\n",
    "\n",
    "quality_label = tk.Label(root, text=\"Qualidade do vídeo:\")\n",
    "quality_label.grid(row=2, column=0, padx=10, pady=5, sticky=tk.W)\n",
    "\n",
    "quality_var = tk.StringVar(root)\n",
    "quality_dropdown = tk.OptionMenu(root, quality_var, \"\")\n",
    "quality_dropdown.grid(row=2, column=1, padx=10, pady=5)\n",
    "\n",
    "format_label = tk.Label(root, text=\"Formato do vídeo:\")\n",
    "format_label.grid(row=3, column=0, padx=10, pady=5, sticky=tk.W)\n",
    "\n",
    "format_var = tk.StringVar(root)\n",
    "format_dropdown = tk.OptionMenu(root, format_var, \"\")\n",
    "format_dropdown.grid(row=3, column=1, padx=10, pady=5)\n",
    "\n",
    "download_button = tk.Button(root, text=\"Baixar Vídeo\", command=download_video)\n",
    "download_button.grid(row=4, column=0, columnspan=2, pady=10)\n",
    "\n",
    "# Atualizar as opções de qualidade e formato quando o usuário inserir o link do vídeo\n",
    "def on_url_entry_change(event):\n",
    "    update_quality_dropdown()\n",
    "    update_format_dropdown()\n",
    "    thread = threading.Thread(target=fetch_quality_and_format_info)\n",
    "    thread.start()\n",
    "\n",
    "def fetch_quality_and_format_info():\n",
    "    update_quality_dropdown()\n",
    "    update_format_dropdown()\n",
    "\n",
    "url_entry.bind(\"<KeyRelease>\", on_url_entry_change)\n",
    "\n",
    "# Executar a aplicação\n",
    "root.mainloop()"
   ]
  }
 ],
 "metadata": {
  "kernelspec": {
   "display_name": "Python 3",
   "language": "python",
   "name": "python3"
  },
  "language_info": {
   "codemirror_mode": {
    "name": "ipython",
    "version": 3
   },
   "file_extension": ".py",
   "mimetype": "text/x-python",
   "name": "python",
   "nbconvert_exporter": "python",
   "pygments_lexer": "ipython3",
   "version": "3.12.2"
  }
 },
 "nbformat": 4,
 "nbformat_minor": 2
}
